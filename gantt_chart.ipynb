{
 "cells": [
  {
   "cell_type": "markdown",
   "metadata": {},
   "source": [
    "# Gantt Chart\n",
    "This notebook is demonstrating a relatively straightforward way of creating a Gantt Chart using Python and the Pandas, Numpy, and Matplotlib packages. It is heavily inspired by the examples found [here]() and [here]().\n",
    "\n",
    "There are several useful packages, classes, modules available for making Gantt charts using Python:\n",
    "* https://github.com/stefanSchinkel/gantt\n",
    "* using Plotly: https://plot.ly/python/gantt/\n",
    "* using Bokeh:\n",
    "* Alexandre Norman's [python-gantt](https://pypi.python.org/pypi/python-gantt/) package: http://xael.org/pages/python-gantt-en.html\n",
    "\n",
    "\n",
    "Software versions are listed at the end of the notebook using JR Johansson's excellent `version_information` Jupyter extension. See the version_information [example notebook](https://nbviewer.jupyter.org/github/jrjohansson/version_information/blob/master/example.ipynb) for installation instructions."
   ]
  },
  {
   "cell_type": "code",
   "execution_count": 1,
   "metadata": {
    "collapsed": true
   },
   "outputs": [],
   "source": [
    "import pandas as pd\n",
    "import numpy as np\n",
    "import matplotlib.pyplot as plt\n",
    "import matplotlib.dates as dates"
   ]
  },
  {
   "cell_type": "code",
   "execution_count": 2,
   "metadata": {
    "collapsed": true
   },
   "outputs": [],
   "source": [
    "%matplotlib inline"
   ]
  },
  {
   "cell_type": "markdown",
   "metadata": {},
   "source": [
    "### Tasks\n"
   ]
  },
  {
   "cell_type": "code",
   "execution_count": 11,
   "metadata": {},
   "outputs": [
    {
     "data": {
      "text/html": [
       "<div>\n",
       "<style>\n",
       "    .dataframe thead tr:only-child th {\n",
       "        text-align: right;\n",
       "    }\n",
       "\n",
       "    .dataframe thead th {\n",
       "        text-align: left;\n",
       "    }\n",
       "\n",
       "    .dataframe tbody tr th {\n",
       "        vertical-align: top;\n",
       "    }\n",
       "</style>\n",
       "<table border=\"1\" class=\"dataframe\">\n",
       "  <thead>\n",
       "    <tr style=\"text-align: right;\">\n",
       "      <th></th>\n",
       "      <th>Task</th>\n",
       "      <th>Start</th>\n",
       "      <th>End</th>\n",
       "      <th>Color</th>\n",
       "    </tr>\n",
       "    <tr>\n",
       "      <th>Task_Index</th>\n",
       "      <th></th>\n",
       "      <th></th>\n",
       "      <th></th>\n",
       "      <th></th>\n",
       "    </tr>\n",
       "  </thead>\n",
       "  <tbody>\n",
       "    <tr>\n",
       "      <th>0</th>\n",
       "      <td>T2.2 Task 2 in WP2</td>\n",
       "      <td>2018-10-01</td>\n",
       "      <td>2021-09-30</td>\n",
       "      <td>gray</td>\n",
       "    </tr>\n",
       "    <tr>\n",
       "      <th>1</th>\n",
       "      <td>T2.1 Task 1 in WP2</td>\n",
       "      <td>2018-10-01</td>\n",
       "      <td>2020-09-30</td>\n",
       "      <td>gray</td>\n",
       "    </tr>\n",
       "    <tr>\n",
       "      <th>2</th>\n",
       "      <td>$\\mathbf{WP2\\/Work\\/Package\\/Title}$</td>\n",
       "      <td>2018-10-01</td>\n",
       "      <td>2021-09-30</td>\n",
       "      <td>blue</td>\n",
       "    </tr>\n",
       "    <tr>\n",
       "      <th>3</th>\n",
       "      <td>T1.2 Task 2 in WP2</td>\n",
       "      <td>2019-04-01</td>\n",
       "      <td>2020-09-30</td>\n",
       "      <td>gray</td>\n",
       "    </tr>\n",
       "    <tr>\n",
       "      <th>4</th>\n",
       "      <td>T1.1 Task 1 in WP1</td>\n",
       "      <td>2018-10-01</td>\n",
       "      <td>2020-09-30</td>\n",
       "      <td>gray</td>\n",
       "    </tr>\n",
       "    <tr>\n",
       "      <th>5</th>\n",
       "      <td>$\\mathbf{WP1\\/Work\\/Package\\/Title}$</td>\n",
       "      <td>2018-10-01</td>\n",
       "      <td>2020-09-30</td>\n",
       "      <td>blue</td>\n",
       "    </tr>\n",
       "  </tbody>\n",
       "</table>\n",
       "</div>"
      ],
      "text/plain": [
       "                                            Task      Start        End Color\n",
       "Task_Index                                                                  \n",
       "0                             T2.2 Task 2 in WP2 2018-10-01 2021-09-30  gray\n",
       "1                             T2.1 Task 1 in WP2 2018-10-01 2020-09-30  gray\n",
       "2           $\\mathbf{WP2\\/Work\\/Package\\/Title}$ 2018-10-01 2021-09-30  blue\n",
       "3                             T1.2 Task 2 in WP2 2019-04-01 2020-09-30  gray\n",
       "4                             T1.1 Task 1 in WP1 2018-10-01 2020-09-30  gray\n",
       "5           $\\mathbf{WP1\\/Work\\/Package\\/Title}$ 2018-10-01 2020-09-30  blue"
      ]
     },
     "execution_count": 11,
     "metadata": {},
     "output_type": "execute_result"
    }
   ],
   "source": [
    "# set up empty DataFrame\n",
    "df=pd.DataFrame(columns=['Task','Start','End','Color'])\n",
    "\n",
    "# define work packages etc\n",
    "Tasks=[\n",
    "    ['$\\mathbf{WP1\\/Work\\/Package\\/Title}$','2018-10-1','2020-9-30','blue'],\n",
    "    ['T1.1 Task 1 in WP1','2018-10-1','2020-9-30','gray'],\n",
    "    ['T1.2 Task 2 in WP2','2019-4-1','2020-9-30','gray'],\n",
    "    ['$\\mathbf{WP2\\/Work\\/Package\\/Title}$','2018-10-1','2021-9-30','blue'],\n",
    "    ['T2.1 Task 1 in WP2','2018-10-1','2020-9-30','gray'],\n",
    "    ['T2.2 Task 2 in WP2','2018-10-1','2021-9-30','gray'],\n",
    "    ] #first items on bottom\n",
    "\n",
    "# reverse order of task list\n",
    "for i,Dat in enumerate(Tasks[::-1]):\n",
    "    df.loc[i]=Dat\n",
    "\n",
    "# convert date strings to datetime fields:\n",
    "df.Start=pd.to_datetime(df.Start)\n",
    "df.End=pd.to_datetime(df.End)\n",
    "\n",
    "# add name to index column\n",
    "df.index.rename('Task_Index', inplace=True)\n",
    "\n",
    "# display DataFrame\n",
    "df"
   ]
  },
  {
   "cell_type": "markdown",
   "metadata": {},
   "source": [
    "### Milestones"
   ]
  },
  {
   "cell_type": "code",
   "execution_count": 12,
   "metadata": {},
   "outputs": [
    {
     "data": {
      "text/html": [
       "<div>\n",
       "<style>\n",
       "    .dataframe thead tr:only-child th {\n",
       "        text-align: right;\n",
       "    }\n",
       "\n",
       "    .dataframe thead th {\n",
       "        text-align: left;\n",
       "    }\n",
       "\n",
       "    .dataframe tbody tr th {\n",
       "        vertical-align: top;\n",
       "    }\n",
       "</style>\n",
       "<table border=\"1\" class=\"dataframe\">\n",
       "  <thead>\n",
       "    <tr style=\"text-align: right;\">\n",
       "      <th></th>\n",
       "      <th>Milestone_id</th>\n",
       "      <th>Description</th>\n",
       "      <th>Project_Month</th>\n",
       "      <th>Task_Index</th>\n",
       "      <th>Milestone_Dates</th>\n",
       "    </tr>\n",
       "  </thead>\n",
       "  <tbody>\n",
       "    <tr>\n",
       "      <th>0</th>\n",
       "      <td>M1</td>\n",
       "      <td>description</td>\n",
       "      <td>9</td>\n",
       "      <td>4</td>\n",
       "      <td>2019-06-30</td>\n",
       "    </tr>\n",
       "    <tr>\n",
       "      <th>1</th>\n",
       "      <td>M2</td>\n",
       "      <td>description</td>\n",
       "      <td>12</td>\n",
       "      <td>3</td>\n",
       "      <td>2019-09-30</td>\n",
       "    </tr>\n",
       "    <tr>\n",
       "      <th>2</th>\n",
       "      <td>M3</td>\n",
       "      <td>description</td>\n",
       "      <td>15</td>\n",
       "      <td>1</td>\n",
       "      <td>2019-12-31</td>\n",
       "    </tr>\n",
       "    <tr>\n",
       "      <th>3</th>\n",
       "      <td>M4</td>\n",
       "      <td>description</td>\n",
       "      <td>20</td>\n",
       "      <td>0</td>\n",
       "      <td>2020-05-31</td>\n",
       "    </tr>\n",
       "  </tbody>\n",
       "</table>\n",
       "</div>"
      ],
      "text/plain": [
       "  Milestone_id  Description Project_Month Task_Index Milestone_Dates\n",
       "0           M1  description             9          4      2019-06-30\n",
       "1           M2  description            12          3      2019-09-30\n",
       "2           M3  description            15          1      2019-12-31\n",
       "3           M4  description            20          0      2020-05-31"
      ]
     },
     "execution_count": 12,
     "metadata": {},
     "output_type": "execute_result"
    }
   ],
   "source": [
    "# define Milestones\n",
    "\n",
    "df_m =pd.DataFrame(columns=['Milestone_id','Description', 'Project_Month','Task_Index'])\n",
    "\n",
    "Milestones = [['M1', 'description', 9, 4], \n",
    "              ['M2', 'description', 12, 3],\n",
    "              ['M3', 'description', 15, 1],\n",
    "              ['M4', 'description', 20, 0]]\n",
    "\n",
    "# add milestone data to DataFrame\n",
    "for i,M in enumerate(Milestones):\n",
    "    df_m.loc[i]=M\n",
    "\n",
    "# make a date range with monthly resolution for whole project period\n",
    "proj_months = pd.date_range(start='2018-10-01', end='2021-12-31', freq='M')\n",
    "    \n",
    "# get milestone month indices\n",
    "milestone_date_indices = df_m['Project_Month'].values.astype(int)-1\n",
    "\n",
    "# select months with milestones and add to DataFrame\n",
    "df_m['Milestone_Dates'] = proj_months[milestone_date_indices]\n",
    "\n",
    "df_m"
   ]
  },
  {
   "cell_type": "markdown",
   "metadata": {},
   "source": [
    "### Gantt Chart"
   ]
  },
  {
   "cell_type": "code",
   "execution_count": 16,
   "metadata": {},
   "outputs": [
    {
     "data": {
      "text/plain": [
       "<matplotlib.figure.Figure at 0x7f3bf33140b8>"
      ]
     },
     "metadata": {},
     "output_type": "display_data"
    },
    {
     "data": {
      "image/png": "[encoded data removed]",
      "text/plain": [
       "<matplotlib.figure.Figure at 0x7f3bf36fae10>"
      ]
     },
     "metadata": {},
     "output_type": "display_data"
    }
   ],
   "source": [
    "# designate variables\n",
    "x2 = df.End.values\n",
    "x1 = df.Start.values\n",
    "y = df.index.astype(np.int)\n",
    "names = df.Task.values\n",
    "\n",
    "labels, ticklocs= [], []\n",
    "\n",
    "# colors\n",
    "color = df.Color.tolist()\n",
    "\n",
    "# set up figure canvas and plot axes\n",
    "plt.figure(figsize=(35,3))\n",
    "fig, ax = plt.subplots()\n",
    "\n",
    "# generate a line and line properties for each task\n",
    "for i in range(len(y)):\n",
    "    plt.hlines(i+1, x1[i], x2[i], label=y[i], color=color[i], linewidth=8 ,alpha=0.6)\n",
    "    labels.append(names[i])\n",
    "    ticklocs.append(i+1)\n",
    "\n",
    "# set y limits\n",
    "ax.set_ylim(0,len(y)+1)\n",
    "plt.yticks(ticklocs, labels, fontsize=10)\n",
    "\n",
    "# create custom date labels using Pandas' data range tools\n",
    "xlabels = pd.date_range(start=df.Start.min(), end=df.End.max(), freq='3MS')\n",
    "\n",
    "# set x-axis tick locations\n",
    "plt.xticks(xlabels, xlabels)\n",
    "\n",
    "# set x-axis limits\n",
    "ax.set_xlim(df.Start.min(),df.End.max())\n",
    "\n",
    "# set x-axis label\n",
    "ax.set_xlabel('Date', fontsize=12)\n",
    "\n",
    "# modify date labels\n",
    "dateFmt = dates.DateFormatter('%Y-%m')\n",
    "ax.xaxis.set_major_formatter(dateFmt)\n",
    "fig.autofmt_xdate()\n",
    "\n",
    "# add grid lines\n",
    "plt.grid(ls='-.')\n",
    "\n",
    "# set chart title\n",
    "#plt.title('ProjectName Project Schedule')\n",
    "\n",
    "# plot stars to indicate milestone deadlines\n",
    "ax.plot(df_m['Milestone_Dates'], df_m['Task_Index']+1, marker='*', ms=6, color='red', ls='')\n",
    "\n",
    "# add text with Milestone label to each milestone marker, offset label to place it \n",
    "\n",
    "texts = []\n",
    "\n",
    "for i, txt in enumerate( df_m['Milestone_id'] ):\n",
    "    ax.text(df_m['Milestone_Dates'].loc[i]+pd.DateOffset(days=-55), # x-value (incl offset) for milestone label\n",
    "            df_m['Task_Index'].loc[i]+0.9, txt, fontsize=8) # y-value (incl small offset for milestone label)\n",
    "    \n",
    "#ax.annotate(s=df_m['Milestone_id'], xy=(df_m['Milestone_Dates'].values, df_m['Task_Index'].values))\n",
    "\n",
    "# save the figure, use kwarg bbox_inches='tight' to fit the whole graph on canvas\n",
    "\n",
    "#plt.savefig('my_gantt_chart.png', bbox_inches='tight', dpi=300);"
   ]
  },
  {
   "cell_type": "code",
   "execution_count": null,
   "metadata": {
    "collapsed": true
   },
   "outputs": [],
   "source": []
  }
 ],
 "metadata": {
  "kernelspec": {
   "display_name": "Python 3",
   "language": "python",
   "name": "python3"
  },
  "language_info": {
   "codemirror_mode": {
    "name": "ipython",
    "version": 3
   },
   "file_extension": ".py",
   "mimetype": "text/x-python",
   "name": "python",
   "nbconvert_exporter": "python",
   "pygments_lexer": "ipython3",
   "version": "3.6.5"
  },
  "toc": {
   "base_numbering": 1,
   "nav_menu": {},
   "number_sections": false,
   "sideBar": false,
   "skip_h1_title": false,
   "title_cell": "Table of Contents",
   "title_sidebar": "Contents",
   "toc_cell": false,
   "toc_position": {},
   "toc_section_display": false,
   "toc_window_display": false
  }
 },
 "nbformat": 4,
 "nbformat_minor": 2
}
